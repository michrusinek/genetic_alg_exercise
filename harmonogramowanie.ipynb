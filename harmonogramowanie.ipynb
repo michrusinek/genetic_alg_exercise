{
 "cells": [
  {
   "cell_type": "code",
   "execution_count": 1,
   "id": "878edf05",
   "metadata": {},
   "outputs": [],
   "source": [
    "from openpyxl import workbook\n",
    "import itertools\n",
    "import random\n",
    "from openpyxl import load_workbook\n",
    "import numpy as np\n",
    "from numpy import cumsum"
   ]
  },
  {
   "cell_type": "markdown",
   "id": "050f6afc",
   "metadata": {},
   "source": [
    "### Generating permutations and drawing 5 random elements"
   ]
  },
  {
   "cell_type": "code",
   "execution_count": 4,
   "id": "6f0d9992",
   "metadata": {},
   "outputs": [],
   "source": [
    "def get_random_schedules():\n",
    "    permutations = [x for x in itertools.permutations(range(1, 10))]\n",
    "    schedules_chosen = []\n",
    "    \n",
    "    for elem in range(5):\n",
    "        num = random.randrange(1, len(permutations))\n",
    "        schedules_chosen.append(permutations[num])\n",
    "        \n",
    "    return schedules_chosen"
   ]
  },
  {
   "cell_type": "markdown",
   "id": "aef9f7eb",
   "metadata": {},
   "source": [
    "### Calculating and inserting values into the spreadsheet "
   ]
  },
  {
   "cell_type": "code",
   "execution_count": 5,
   "id": "e456b2fd",
   "metadata": {},
   "outputs": [],
   "source": [
    "def get_op_times(sheet):\n",
    "    op_times = {\n",
    "        'm1': [sheet.cell(row=3,column=i).value for i in range(2,11)],\n",
    "        'm2': [sheet.cell(row=4,column=i).value for i in range(2,11)]\n",
    "                }\n",
    "    return op_times"
   ]
  },
  {
   "cell_type": "code",
   "execution_count": 8,
   "id": "8b4af7eb",
   "metadata": {},
   "outputs": [],
   "source": [
    "def insert_operations(sheet, schedule, row, column):\n",
    "    for i in range(len(schedule)):\n",
    "        sheet.cell(row, column + i).value = schedule[i]"
   ]
  },
  {
   "cell_type": "markdown",
   "id": "4ebcf9c1",
   "metadata": {},
   "source": [
    "*Functions for calculating operational time, fit function, probability and distribution function*"
   ]
  },
  {
   "cell_type": "code",
   "execution_count": 9,
   "id": "9d0406c6",
   "metadata": {},
   "outputs": [],
   "source": [
    "def get_operational_time(schedules, op_times, num):\n",
    "    m1_sum = cumsum(np.array([op_times['m1'][x - 1] for x in schedules[num]]))\n",
    "    m2_sum = [op_times['m2'][x - 1] for x in schedules[num]]\n",
    "\n",
    "    for elem in range(1, len(m2_sum[1:]) + 1):\n",
    "        m2_sum[elem] = max(m2_sum[elem] + m2_sum[elem - 1], m2_sum[elem] + m1_sum[elem])\n",
    "        \n",
    "    return m2_sum[-1]"
   ]
  },
  {
   "cell_type": "code",
   "execution_count": 10,
   "id": "21435ff7",
   "metadata": {},
   "outputs": [],
   "source": [
    "def get_fit_function(time):\n",
    "    return 100 - time"
   ]
  },
  {
   "cell_type": "code",
   "execution_count": 11,
   "id": "cc88a18d",
   "metadata": {},
   "outputs": [],
   "source": [
    "def get_probability(value):\n",
    "    fit_func_sum = sum([sheet.cell(12 + x, 12).value for x in range(5)]) \n",
    "    \n",
    "    return round((value / fit_func_sum), 5)\n"
   ]
  },
  {
   "cell_type": "code",
   "execution_count": 12,
   "id": "161ff4d0",
   "metadata": {},
   "outputs": [],
   "source": [
    "def insert_parameters(sheet):\n",
    "    for elem in range(5):\n",
    "        sheet.cell(12 + elem, 11).value = get_operational_time(schedules, op_times, elem)\n",
    "        sheet.cell(12 + elem, 12).value = get_fit_function(sheet.cell(12 + elem, 11).value)\n",
    "    for elem in range(5):\n",
    "        sheet.cell(12 + elem, 13).value = get_probability(sheet.cell(12 + elem, 12).value)\n",
    "    \n",
    "        if elem == 0:\n",
    "            sheet.cell(12, 14).value = sheet.cell(12, 13).value\n",
    "        else:\n",
    "            sheet.cell(12 + elem, 14).value = sheet.cell(12 + elem, 13).value + sheet.cell((12 + elem - 1), 14).value"
   ]
  },
  {
   "cell_type": "markdown",
   "id": "cbc452d5",
   "metadata": {},
   "source": [
    "### Drawing pairs of parents"
   ]
  },
  {
   "cell_type": "code",
   "execution_count": 13,
   "id": "f7d5f943",
   "metadata": {},
   "outputs": [],
   "source": [
    "def get_pairs_of_parents(sheet):\n",
    "    pair = {}\n",
    "    list_of_pairs = []\n",
    "    list_of_distr = [sheet.cell(12 + x, 14).value for x in range(5)]\n",
    "    parents = []\n",
    "\n",
    "    for i in range(5):\n",
    "        for k in range(2):\n",
    "            rand = random.uniform(0, 1)\n",
    "            res = next(x for x, val in enumerate(list_of_distr) if val > rand)\n",
    "            \n",
    "            while True:\n",
    "                if res in parents:\n",
    "                    rand = random.uniform(0, 1)\n",
    "                    res = next(x for x, val in enumerate(list_of_distr) if val > rand)\n",
    "                else:\n",
    "                    break\n",
    "                    \n",
    "            parents.append(res)\n",
    "            pair[f'P{k + 1}'] = [res + 1, schedules[res]]\n",
    "\n",
    "        parents = []\n",
    "        list_of_pairs.append(pair)\n",
    "        pair = {}\n",
    "    \n",
    "    return list_of_pairs\n"
   ]
  },
  {
   "cell_type": "markdown",
   "id": "0bcb3612",
   "metadata": {},
   "source": [
    "### Crossing"
   ]
  },
  {
   "cell_type": "code",
   "execution_count": 15,
   "id": "42774b3f",
   "metadata": {},
   "outputs": [],
   "source": [
    "def crossing(num, list_of_pairs, fixed_opertions, parent_1, parent_2):\n",
    "    offspring = [\" \" for x in range(9)]\n",
    "    parent_schedule_1 = list_of_pairs[num][parent_1][1]\n",
    "    parent_schedule_2 = list_of_pairs[num][parent_2][1]\n",
    "    \n",
    "    # Inserting operations from the first parent\n",
    "    for elem in range(len(parent_schedule_1)):\n",
    "        if elem == fixed_operations[0]:\n",
    "            offspring[elem] = parent_schedule_1[elem]\n",
    "        elif elem == fixed_operations[1]:\n",
    "            offspring[elem] = parent_schedule_1[elem]\n",
    "        elif elem == fixed_operations[2]:\n",
    "            offspring[elem] = parent_schedule_1[elem]\n",
    "\n",
    "    # Inserting operations from the second parent\n",
    "    for elem in range(len(offspring)):\n",
    "        if offspring[elem] == ' ':\n",
    "            offspring[elem] = next(x for x in parent_schedule_2 if x not in offspring)\n",
    "    \n",
    "    return offspring"
   ]
  },
  {
   "cell_type": "markdown",
   "id": "072ade8f",
   "metadata": {},
   "source": [
    "### Mutation"
   ]
  },
  {
   "cell_type": "code",
   "execution_count": 16,
   "id": "b5b1f127",
   "metadata": {},
   "outputs": [],
   "source": [
    "def mutation(offspring, indexes_to_swap):\n",
    "    if type(offspring) != list:\n",
    "        offspring = list(offspring)\n",
    "    \n",
    "    offspring[indexes_to_swap[0]], offspring[indexes_to_swap[1]] = offspring[indexes_to_swap[1]], offspring[indexes_to_swap[0]]\n",
    "    return offspring"
   ]
  },
  {
   "cell_type": "markdown",
   "id": "3efd96a2",
   "metadata": {},
   "source": [
    "### Choosing four of the best among the offspring and the best parent"
   ]
  },
  {
   "cell_type": "code",
   "execution_count": 17,
   "id": "f0a66b08",
   "metadata": {},
   "outputs": [],
   "source": [
    "def get_best_offspring(sheet, list_of_offspring_m):\n",
    "    offspring_results = []\n",
    "    results_dict = {}\n",
    "    \n",
    "    for num, offspring in enumerate(list_of_offspring_m):\n",
    "        results_dict['name'] = f'O{num + 1}'\n",
    "        results_dict['schedule'] = offspring\n",
    "        results_dict['fit_function'] = sheet.cell(37 + num, 24).value\n",
    "        offspring_results.append(results_dict)\n",
    "        results_dict = {}\n",
    "        \n",
    "    return sorted(offspring_results, key=lambda d: d['fit_function'], reverse=True)[:4] \n",
    "\n",
    "def get_best_parent(sheet, schedules):\n",
    "    parents_results = []\n",
    "    results_dict = {}\n",
    "    \n",
    "    for num, parent in enumerate(schedules):\n",
    "        results_dict['name'] = f'P{num + 1}'\n",
    "        results_dict['schedule'] = parent\n",
    "        results_dict['fit_function'] = sheet.cell(12 + num, 12).value\n",
    "        parents_results.append(results_dict)\n",
    "        results_dict = {}\n",
    "    return max(parents_results, key=lambda x:x['fit_function'])"
   ]
  },
  {
   "cell_type": "markdown",
   "id": "4ddb64d9",
   "metadata": {},
   "source": [
    "### Executing the whole algorithm"
   ]
  },
  {
   "cell_type": "code",
   "execution_count": 23,
   "id": "b9968410",
   "metadata": {},
   "outputs": [],
   "source": [
    "num_of_iterations = 3\n",
    "\n",
    "for iteration in range(num_of_iterations):\n",
    "    # Drawing parents, calculating parameters for each of them and inserting values into the spreadsheet\n",
    "    schedules = get_random_schedules()\n",
    "\n",
    "    filename = 'alg_genetyczny.xlsx'\n",
    "    wb = load_workbook(filename)\n",
    "    sheet = wb['Sheet1']\n",
    "\n",
    "    op_times = get_op_times(sheet)\n",
    "    \n",
    "    for i, schedule in enumerate(schedules):\n",
    "        insert_operations(sheet, schedule, 12 + i, 2)\n",
    "        \n",
    "    insert_parameters(sheet)\n",
    "\n",
    "    list_of_pairs = get_pairs_of_parents(sheet)\n",
    "\n",
    "    for i in range(len(list_of_pairs)):\n",
    "        sheet.cell(20 + i, 1).value = list_of_pairs[i]['P1'][0]\n",
    "        sheet.cell(20 + i, 2).value = list_of_pairs[i]['P2'][0]\n",
    "        sheet.cell(29 + i, 1).value = list_of_pairs[i]['P1'][0]\n",
    "        sheet.cell(29 + i, 2).value = list_of_pairs[i]['P2'][0]\n",
    "\n",
    "        insert_operations(sheet, list_of_pairs[i]['P1'][1], 20 + i, 3)\n",
    "        insert_operations(sheet, list_of_pairs[i]['P2'][1], 20 + i, 17)\n",
    "\n",
    "    # Crossing  \n",
    "\n",
    "    list_of_offspring = []\n",
    "    pc = 0.6\n",
    "\n",
    "    # Creating the first five of the offspring\n",
    "    fixed_operations = sorted(random.sample(range(9), 3))\n",
    "\n",
    "\n",
    "    for i in range(len(list_of_pairs)):\n",
    "        if random.uniform(0, 1) > pc:\n",
    "            list_of_offspring.append(crossing(i, list_of_pairs, fixed_operations, 'P1', 'P2'))\n",
    "        else:\n",
    "            list_of_offspring.append(list_of_pairs[i]['P1'][1])\n",
    "\n",
    "    for r in range(len(list_of_offspring)):\n",
    "        offspring = list_of_offspring[r]\n",
    "        insert_operations(sheet, offspring, 29 + r, 3)\n",
    "        insert_operations(sheet, offspring, 37 + r, 2)\n",
    "\n",
    "    # Creating another five of the offspring\n",
    "    fixed_operations = sorted(random.sample(range(9), 3))\n",
    "\n",
    "\n",
    "    for i in range(len(list_of_pairs)):\n",
    "        if random.uniform(0, 1) > pc:\n",
    "            list_of_offspring.append(crossing(i, list_of_pairs, fixed_operations, 'P2', 'P1'))\n",
    "        else:\n",
    "            list_of_offspring.append(list_of_pairs[i]['P2'][1])\n",
    "\n",
    "    for r in range(len(list_of_offspring[5:])):\n",
    "        offspring = list_of_offspring[r + len(list_of_offspring[5:])]\n",
    "        insert_operations(sheet, offspring, 29 + r, 17)\n",
    "        insert_operations(sheet, offspring, 42 + r, 2)\n",
    "\n",
    "    # Mutation\n",
    "\n",
    "    indexes_to_swap = sorted(random.sample(range(9), 2))\n",
    "    pm = 0.3\n",
    "    list_of_offspring_m = []\n",
    "\n",
    "    for elem in list_of_offspring:\n",
    "        if random.uniform(0, 1) > pm:\n",
    "            list_of_offspring_m.append(mutation(elem, indexes_to_swap))\n",
    "        else:\n",
    "            list_of_offspring_m.append(elem)\n",
    "\n",
    "    for r in range(len(list_of_offspring_m)):\n",
    "        offspring_m = list_of_offspring_m[r]\n",
    "        insert_operations(sheet, offspring_m, 37 + r, 14)\n",
    "\n",
    "        sheet.cell(37 + r, 14 + c + 1).value = get_operational_time(list_of_offspring_m, op_times, r)\n",
    "        sheet.cell(37 + r, 14 + c + 2).value = get_fit_function(sheet.cell(37 + r, 14 + c + 1).value)\n",
    "\n",
    "    # Choosing four of the best among the offspring and the best parent based on the value of the fit function\n",
    "\n",
    "    best_offspring = get_best_offspring(sheet, list_of_offspring_m)\n",
    "    best_parent = get_best_parent(sheet, schedules)\n",
    "\n",
    "    for count, elem in enumerate(best_offspring):\n",
    "        sheet.cell(7 + count + (9 * iteration), 28).value = elem['name']\n",
    "        sheet.cell(7 + count + (9 * iteration), 29).value = ', '.join([str(x) for x in elem['schedule']])\n",
    "        sheet.cell(7 + count + (9 * iteration), 30).value = elem['fit_function']\n",
    "\n",
    "    sheet.cell(7 + len(best_offspring) + (9 * iteration), 28).value =  best_parent['name']\n",
    "    sheet.cell(7 + len(best_offspring) + (9 * iteration), 29).value = ', '.join([str(x) for x in best_parent['schedule']])\n",
    "    sheet.cell(7 + len(best_offspring) + (9 * iteration), 30).value = best_parent['fit_function']\n",
    "\n",
    "    wb.save(filename)"
   ]
  }
 ],
 "metadata": {
  "kernelspec": {
   "display_name": "Python 3",
   "language": "python",
   "name": "python3"
  },
  "language_info": {
   "codemirror_mode": {
    "name": "ipython",
    "version": 3
   },
   "file_extension": ".py",
   "mimetype": "text/x-python",
   "name": "python",
   "nbconvert_exporter": "python",
   "pygments_lexer": "ipython3",
   "version": "3.8.8"
  }
 },
 "nbformat": 4,
 "nbformat_minor": 5
}
